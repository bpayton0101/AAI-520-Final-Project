{
  "nbformat": 4,
  "nbformat_minor": 0,
  "metadata": {
    "colab": {
      "provenance": [],
      "authorship_tag": "ABX9TyNrKWI+uBXMoLyqaMO69Exo",
      "include_colab_link": true
    },
    "kernelspec": {
      "name": "python3",
      "display_name": "Python 3"
    },
    "language_info": {
      "name": "python"
    }
  },
  "cells": [
    {
      "cell_type": "markdown",
      "metadata": {
        "id": "view-in-github",
        "colab_type": "text"
      },
      "source": [
        "<a href=\"https://colab.research.google.com/github/bpayton0101/AAI-520-Final-Project/blob/main/002_0_data_cleaning_movie_lines.ipynb\" target=\"_parent\"><img src=\"https://colab.research.google.com/assets/colab-badge.svg\" alt=\"Open In Colab\"/></a>"
      ]
    },
    {
      "cell_type": "code",
      "source": [
        "# The Cornell Movie Dialogs dataset is a popular resource for natural language\n",
        "# processing tasks.\n",
        "# However, it may require cleaning before use due to potential inconsistencies, errors, or unwanted elements.\n",
        "# Here are some Python code recommendations to help you clean this dataset:\n",
        "\n",
        "\n",
        "# 1. Import Necessary Libraries:\n",
        "\n",
        "import pandas as pd\n",
        "import re\n",
        "\n",
        "# 2. Load the Dataset:\n",
        "\n",
        "from google.colab import drive\n",
        "drive.mount('/content/drive')\n",
        "\n",
        "file_path = \"/content/drive/MyDrive/movie_lines.txt\"  # Replace with your file's path\n",
        "\n",
        "# Try opening the file with different encodings\n",
        "try:\n",
        "    with open(file_path, 'r', encoding='utf-8') as f:\n",
        "        text = f.read()\n",
        "except UnicodeDecodeError:\n",
        "    try:\n",
        "        with open(file_path, 'r', encoding='latin-1') as f:\n",
        "            text = f.read()\n",
        "    except UnicodeDecodeError:\n",
        "        try:\n",
        "            with open(file_path, 'r', encoding='cp1252') as f:\n",
        "                text = f.read()\n",
        "        except:\n",
        "            print(\"Could not decode file. Please try a different encoding.\")\n",
        "\n",
        "# Read the TXT file's contents into a pandas DataFrame\n",
        "# use the read_csv function to read the data, specifying the delimiter and encoding\n",
        "# If you encounter errors, you may need to experiment with different delimiters\n",
        "# or handle bad lines\n",
        "try:\n",
        "  text_data = pd.read_csv(file_path, delimiter=\"\\t\", encoding='latin-1', on_bad_lines='skip', header=None, names=[\"character\", \"line\"]) # Pass the file_path to read_csv\n",
        "except pd.errors.ParserError as e:\n",
        "  print(f\"ParserError: {e}\")\n",
        "  # If you encounter a ParserError, try a different delimiter\n",
        "  try:\n",
        "    text_data = pd.read_csv(file_path, delimiter=\" +++$+++ \", encoding='latin-1', on_bad_lines='skip', header=None, names=[\"character\", \"line\"]) # Pass the file_path to read_csv\n",
        "  except pd.errors.ParserError as e:\n",
        "    print(f\"ParserError: {e}\")"
      ],
      "metadata": {
        "colab": {
          "base_uri": "https://localhost:8080/"
        },
        "id": "MeiGiQ4J8svB",
        "outputId": "63539c84-6707-42f8-cf48-3a4741358ec9"
      },
      "execution_count": null,
      "outputs": [
        {
          "output_type": "stream",
          "name": "stdout",
          "text": [
            "Drive already mounted at /content/drive; to attempt to forcibly remount, call drive.mount(\"/content/drive\", force_remount=True).\n"
          ]
        }
      ]
    },
    {
      "cell_type": "code",
      "source": [
        "# 2a. Display Data\n",
        "new_var = display(text_data)\n",
        "new_var\n"
      ],
      "metadata": {
        "colab": {
          "base_uri": "https://localhost:8080/",
          "height": 423
        },
        "id": "r-s66ASm-2Xd",
        "outputId": "6c436d5b-449b-4687-8b5d-2385bfd34f08"
      },
      "execution_count": null,
      "outputs": [
        {
          "output_type": "display_data",
          "data": {
            "text/plain": [
              "                                                character line\n",
              "0       L1045 +++$+++ u0 +++$+++ m0 +++$+++ BIANCA +++...  NaN\n",
              "1       L1044 +++$+++ u2 +++$+++ m0 +++$+++ CAMERON ++...  NaN\n",
              "2       L985 +++$+++ u0 +++$+++ m0 +++$+++ BIANCA +++$...  NaN\n",
              "3       L984 +++$+++ u2 +++$+++ m0 +++$+++ CAMERON +++...  NaN\n",
              "4       L925 +++$+++ u0 +++$+++ m0 +++$+++ BIANCA +++$...  NaN\n",
              "...                                                   ...  ...\n",
              "304600  L666371 +++$+++ u9030 +++$+++ m616 +++$+++ DUR...  NaN\n",
              "304601  L666370 +++$+++ u9034 +++$+++ m616 +++$+++ VER...  NaN\n",
              "304602  L666369 +++$+++ u9030 +++$+++ m616 +++$+++ DUR...  NaN\n",
              "304603  L666257 +++$+++ u9030 +++$+++ m616 +++$+++ DUR...  NaN\n",
              "304604  L666256 +++$+++ u9034 +++$+++ m616 +++$+++ VER...  NaN\n",
              "\n",
              "[304605 rows x 2 columns]"
            ],
            "text/html": [
              "\n",
              "  <div id=\"df-ec443f82-6697-4fdd-8059-103e3ef08661\" class=\"colab-df-container\">\n",
              "    <div>\n",
              "<style scoped>\n",
              "    .dataframe tbody tr th:only-of-type {\n",
              "        vertical-align: middle;\n",
              "    }\n",
              "\n",
              "    .dataframe tbody tr th {\n",
              "        vertical-align: top;\n",
              "    }\n",
              "\n",
              "    .dataframe thead th {\n",
              "        text-align: right;\n",
              "    }\n",
              "</style>\n",
              "<table border=\"1\" class=\"dataframe\">\n",
              "  <thead>\n",
              "    <tr style=\"text-align: right;\">\n",
              "      <th></th>\n",
              "      <th>character</th>\n",
              "      <th>line</th>\n",
              "    </tr>\n",
              "  </thead>\n",
              "  <tbody>\n",
              "    <tr>\n",
              "      <th>0</th>\n",
              "      <td>L1045 +++$+++ u0 +++$+++ m0 +++$+++ BIANCA +++...</td>\n",
              "      <td>NaN</td>\n",
              "    </tr>\n",
              "    <tr>\n",
              "      <th>1</th>\n",
              "      <td>L1044 +++$+++ u2 +++$+++ m0 +++$+++ CAMERON ++...</td>\n",
              "      <td>NaN</td>\n",
              "    </tr>\n",
              "    <tr>\n",
              "      <th>2</th>\n",
              "      <td>L985 +++$+++ u0 +++$+++ m0 +++$+++ BIANCA +++$...</td>\n",
              "      <td>NaN</td>\n",
              "    </tr>\n",
              "    <tr>\n",
              "      <th>3</th>\n",
              "      <td>L984 +++$+++ u2 +++$+++ m0 +++$+++ CAMERON +++...</td>\n",
              "      <td>NaN</td>\n",
              "    </tr>\n",
              "    <tr>\n",
              "      <th>4</th>\n",
              "      <td>L925 +++$+++ u0 +++$+++ m0 +++$+++ BIANCA +++$...</td>\n",
              "      <td>NaN</td>\n",
              "    </tr>\n",
              "    <tr>\n",
              "      <th>...</th>\n",
              "      <td>...</td>\n",
              "      <td>...</td>\n",
              "    </tr>\n",
              "    <tr>\n",
              "      <th>304600</th>\n",
              "      <td>L666371 +++$+++ u9030 +++$+++ m616 +++$+++ DUR...</td>\n",
              "      <td>NaN</td>\n",
              "    </tr>\n",
              "    <tr>\n",
              "      <th>304601</th>\n",
              "      <td>L666370 +++$+++ u9034 +++$+++ m616 +++$+++ VER...</td>\n",
              "      <td>NaN</td>\n",
              "    </tr>\n",
              "    <tr>\n",
              "      <th>304602</th>\n",
              "      <td>L666369 +++$+++ u9030 +++$+++ m616 +++$+++ DUR...</td>\n",
              "      <td>NaN</td>\n",
              "    </tr>\n",
              "    <tr>\n",
              "      <th>304603</th>\n",
              "      <td>L666257 +++$+++ u9030 +++$+++ m616 +++$+++ DUR...</td>\n",
              "      <td>NaN</td>\n",
              "    </tr>\n",
              "    <tr>\n",
              "      <th>304604</th>\n",
              "      <td>L666256 +++$+++ u9034 +++$+++ m616 +++$+++ VER...</td>\n",
              "      <td>NaN</td>\n",
              "    </tr>\n",
              "  </tbody>\n",
              "</table>\n",
              "<p>304605 rows × 2 columns</p>\n",
              "</div>\n",
              "    <div class=\"colab-df-buttons\">\n",
              "\n",
              "  <div class=\"colab-df-container\">\n",
              "    <button class=\"colab-df-convert\" onclick=\"convertToInteractive('df-ec443f82-6697-4fdd-8059-103e3ef08661')\"\n",
              "            title=\"Convert this dataframe to an interactive table.\"\n",
              "            style=\"display:none;\">\n",
              "\n",
              "  <svg xmlns=\"http://www.w3.org/2000/svg\" height=\"24px\" viewBox=\"0 -960 960 960\">\n",
              "    <path d=\"M120-120v-720h720v720H120Zm60-500h600v-160H180v160Zm220 220h160v-160H400v160Zm0 220h160v-160H400v160ZM180-400h160v-160H180v160Zm440 0h160v-160H620v160ZM180-180h160v-160H180v160Zm440 0h160v-160H620v160Z\"/>\n",
              "  </svg>\n",
              "    </button>\n",
              "\n",
              "  <style>\n",
              "    .colab-df-container {\n",
              "      display:flex;\n",
              "      gap: 12px;\n",
              "    }\n",
              "\n",
              "    .colab-df-convert {\n",
              "      background-color: #E8F0FE;\n",
              "      border: none;\n",
              "      border-radius: 50%;\n",
              "      cursor: pointer;\n",
              "      display: none;\n",
              "      fill: #1967D2;\n",
              "      height: 32px;\n",
              "      padding: 0 0 0 0;\n",
              "      width: 32px;\n",
              "    }\n",
              "\n",
              "    .colab-df-convert:hover {\n",
              "      background-color: #E2EBFA;\n",
              "      box-shadow: 0px 1px 2px rgba(60, 64, 67, 0.3), 0px 1px 3px 1px rgba(60, 64, 67, 0.15);\n",
              "      fill: #174EA6;\n",
              "    }\n",
              "\n",
              "    .colab-df-buttons div {\n",
              "      margin-bottom: 4px;\n",
              "    }\n",
              "\n",
              "    [theme=dark] .colab-df-convert {\n",
              "      background-color: #3B4455;\n",
              "      fill: #D2E3FC;\n",
              "    }\n",
              "\n",
              "    [theme=dark] .colab-df-convert:hover {\n",
              "      background-color: #434B5C;\n",
              "      box-shadow: 0px 1px 3px 1px rgba(0, 0, 0, 0.15);\n",
              "      filter: drop-shadow(0px 1px 2px rgba(0, 0, 0, 0.3));\n",
              "      fill: #FFFFFF;\n",
              "    }\n",
              "  </style>\n",
              "\n",
              "    <script>\n",
              "      const buttonEl =\n",
              "        document.querySelector('#df-ec443f82-6697-4fdd-8059-103e3ef08661 button.colab-df-convert');\n",
              "      buttonEl.style.display =\n",
              "        google.colab.kernel.accessAllowed ? 'block' : 'none';\n",
              "\n",
              "      async function convertToInteractive(key) {\n",
              "        const element = document.querySelector('#df-ec443f82-6697-4fdd-8059-103e3ef08661');\n",
              "        const dataTable =\n",
              "          await google.colab.kernel.invokeFunction('convertToInteractive',\n",
              "                                                    [key], {});\n",
              "        if (!dataTable) return;\n",
              "\n",
              "        const docLinkHtml = 'Like what you see? Visit the ' +\n",
              "          '<a target=\"_blank\" href=https://colab.research.google.com/notebooks/data_table.ipynb>data table notebook</a>'\n",
              "          + ' to learn more about interactive tables.';\n",
              "        element.innerHTML = '';\n",
              "        dataTable['output_type'] = 'display_data';\n",
              "        await google.colab.output.renderOutput(dataTable, element);\n",
              "        const docLink = document.createElement('div');\n",
              "        docLink.innerHTML = docLinkHtml;\n",
              "        element.appendChild(docLink);\n",
              "      }\n",
              "    </script>\n",
              "  </div>\n",
              "\n",
              "\n",
              "<div id=\"df-1cd40992-157a-4c4e-a054-4d6957c833e1\">\n",
              "  <button class=\"colab-df-quickchart\" onclick=\"quickchart('df-1cd40992-157a-4c4e-a054-4d6957c833e1')\"\n",
              "            title=\"Suggest charts\"\n",
              "            style=\"display:none;\">\n",
              "\n",
              "<svg xmlns=\"http://www.w3.org/2000/svg\" height=\"24px\"viewBox=\"0 0 24 24\"\n",
              "     width=\"24px\">\n",
              "    <g>\n",
              "        <path d=\"M19 3H5c-1.1 0-2 .9-2 2v14c0 1.1.9 2 2 2h14c1.1 0 2-.9 2-2V5c0-1.1-.9-2-2-2zM9 17H7v-7h2v7zm4 0h-2V7h2v10zm4 0h-2v-4h2v4z\"/>\n",
              "    </g>\n",
              "</svg>\n",
              "  </button>\n",
              "\n",
              "<style>\n",
              "  .colab-df-quickchart {\n",
              "      --bg-color: #E8F0FE;\n",
              "      --fill-color: #1967D2;\n",
              "      --hover-bg-color: #E2EBFA;\n",
              "      --hover-fill-color: #174EA6;\n",
              "      --disabled-fill-color: #AAA;\n",
              "      --disabled-bg-color: #DDD;\n",
              "  }\n",
              "\n",
              "  [theme=dark] .colab-df-quickchart {\n",
              "      --bg-color: #3B4455;\n",
              "      --fill-color: #D2E3FC;\n",
              "      --hover-bg-color: #434B5C;\n",
              "      --hover-fill-color: #FFFFFF;\n",
              "      --disabled-bg-color: #3B4455;\n",
              "      --disabled-fill-color: #666;\n",
              "  }\n",
              "\n",
              "  .colab-df-quickchart {\n",
              "    background-color: var(--bg-color);\n",
              "    border: none;\n",
              "    border-radius: 50%;\n",
              "    cursor: pointer;\n",
              "    display: none;\n",
              "    fill: var(--fill-color);\n",
              "    height: 32px;\n",
              "    padding: 0;\n",
              "    width: 32px;\n",
              "  }\n",
              "\n",
              "  .colab-df-quickchart:hover {\n",
              "    background-color: var(--hover-bg-color);\n",
              "    box-shadow: 0 1px 2px rgba(60, 64, 67, 0.3), 0 1px 3px 1px rgba(60, 64, 67, 0.15);\n",
              "    fill: var(--button-hover-fill-color);\n",
              "  }\n",
              "\n",
              "  .colab-df-quickchart-complete:disabled,\n",
              "  .colab-df-quickchart-complete:disabled:hover {\n",
              "    background-color: var(--disabled-bg-color);\n",
              "    fill: var(--disabled-fill-color);\n",
              "    box-shadow: none;\n",
              "  }\n",
              "\n",
              "  .colab-df-spinner {\n",
              "    border: 2px solid var(--fill-color);\n",
              "    border-color: transparent;\n",
              "    border-bottom-color: var(--fill-color);\n",
              "    animation:\n",
              "      spin 1s steps(1) infinite;\n",
              "  }\n",
              "\n",
              "  @keyframes spin {\n",
              "    0% {\n",
              "      border-color: transparent;\n",
              "      border-bottom-color: var(--fill-color);\n",
              "      border-left-color: var(--fill-color);\n",
              "    }\n",
              "    20% {\n",
              "      border-color: transparent;\n",
              "      border-left-color: var(--fill-color);\n",
              "      border-top-color: var(--fill-color);\n",
              "    }\n",
              "    30% {\n",
              "      border-color: transparent;\n",
              "      border-left-color: var(--fill-color);\n",
              "      border-top-color: var(--fill-color);\n",
              "      border-right-color: var(--fill-color);\n",
              "    }\n",
              "    40% {\n",
              "      border-color: transparent;\n",
              "      border-right-color: var(--fill-color);\n",
              "      border-top-color: var(--fill-color);\n",
              "    }\n",
              "    60% {\n",
              "      border-color: transparent;\n",
              "      border-right-color: var(--fill-color);\n",
              "    }\n",
              "    80% {\n",
              "      border-color: transparent;\n",
              "      border-right-color: var(--fill-color);\n",
              "      border-bottom-color: var(--fill-color);\n",
              "    }\n",
              "    90% {\n",
              "      border-color: transparent;\n",
              "      border-bottom-color: var(--fill-color);\n",
              "    }\n",
              "  }\n",
              "</style>\n",
              "\n",
              "  <script>\n",
              "    async function quickchart(key) {\n",
              "      const quickchartButtonEl =\n",
              "        document.querySelector('#' + key + ' button');\n",
              "      quickchartButtonEl.disabled = true;  // To prevent multiple clicks.\n",
              "      quickchartButtonEl.classList.add('colab-df-spinner');\n",
              "      try {\n",
              "        const charts = await google.colab.kernel.invokeFunction(\n",
              "            'suggestCharts', [key], {});\n",
              "      } catch (error) {\n",
              "        console.error('Error during call to suggestCharts:', error);\n",
              "      }\n",
              "      quickchartButtonEl.classList.remove('colab-df-spinner');\n",
              "      quickchartButtonEl.classList.add('colab-df-quickchart-complete');\n",
              "    }\n",
              "    (() => {\n",
              "      let quickchartButtonEl =\n",
              "        document.querySelector('#df-1cd40992-157a-4c4e-a054-4d6957c833e1 button');\n",
              "      quickchartButtonEl.style.display =\n",
              "        google.colab.kernel.accessAllowed ? 'block' : 'none';\n",
              "    })();\n",
              "  </script>\n",
              "</div>\n",
              "\n",
              "  <div id=\"id_014d3991-b39c-49a8-a248-3dd66ca95a65\">\n",
              "    <style>\n",
              "      .colab-df-generate {\n",
              "        background-color: #E8F0FE;\n",
              "        border: none;\n",
              "        border-radius: 50%;\n",
              "        cursor: pointer;\n",
              "        display: none;\n",
              "        fill: #1967D2;\n",
              "        height: 32px;\n",
              "        padding: 0 0 0 0;\n",
              "        width: 32px;\n",
              "      }\n",
              "\n",
              "      .colab-df-generate:hover {\n",
              "        background-color: #E2EBFA;\n",
              "        box-shadow: 0px 1px 2px rgba(60, 64, 67, 0.3), 0px 1px 3px 1px rgba(60, 64, 67, 0.15);\n",
              "        fill: #174EA6;\n",
              "      }\n",
              "\n",
              "      [theme=dark] .colab-df-generate {\n",
              "        background-color: #3B4455;\n",
              "        fill: #D2E3FC;\n",
              "      }\n",
              "\n",
              "      [theme=dark] .colab-df-generate:hover {\n",
              "        background-color: #434B5C;\n",
              "        box-shadow: 0px 1px 3px 1px rgba(0, 0, 0, 0.15);\n",
              "        filter: drop-shadow(0px 1px 2px rgba(0, 0, 0, 0.3));\n",
              "        fill: #FFFFFF;\n",
              "      }\n",
              "    </style>\n",
              "    <button class=\"colab-df-generate\" onclick=\"generateWithVariable('text_data')\"\n",
              "            title=\"Generate code using this dataframe.\"\n",
              "            style=\"display:none;\">\n",
              "\n",
              "  <svg xmlns=\"http://www.w3.org/2000/svg\" height=\"24px\"viewBox=\"0 0 24 24\"\n",
              "       width=\"24px\">\n",
              "    <path d=\"M7,19H8.4L18.45,9,17,7.55,7,17.6ZM5,21V16.75L18.45,3.32a2,2,0,0,1,2.83,0l1.4,1.43a1.91,1.91,0,0,1,.58,1.4,1.91,1.91,0,0,1-.58,1.4L9.25,21ZM18.45,9,17,7.55Zm-12,3A5.31,5.31,0,0,0,4.9,8.1,5.31,5.31,0,0,0,1,6.5,5.31,5.31,0,0,0,4.9,4.9,5.31,5.31,0,0,0,6.5,1,5.31,5.31,0,0,0,8.1,4.9,5.31,5.31,0,0,0,12,6.5,5.46,5.46,0,0,0,6.5,12Z\"/>\n",
              "  </svg>\n",
              "    </button>\n",
              "    <script>\n",
              "      (() => {\n",
              "      const buttonEl =\n",
              "        document.querySelector('#id_014d3991-b39c-49a8-a248-3dd66ca95a65 button.colab-df-generate');\n",
              "      buttonEl.style.display =\n",
              "        google.colab.kernel.accessAllowed ? 'block' : 'none';\n",
              "\n",
              "      buttonEl.onclick = () => {\n",
              "        google.colab.notebook.generateWithVariable('text_data');\n",
              "      }\n",
              "      })();\n",
              "    </script>\n",
              "  </div>\n",
              "\n",
              "    </div>\n",
              "  </div>\n"
            ],
            "application/vnd.google.colaboratory.intrinsic+json": {
              "type": "dataframe",
              "variable_name": "text_data"
            }
          },
          "metadata": {}
        }
      ]
    },
    {
      "source": [
        "\n",
        "# 2b. Pre-Processing Count words and characters\n",
        "word_count = text_data[\"line\"].dropna().str.split().apply(len).sum() # Added dropna() to remove missing values\n",
        "char_count = text_data[\"line\"].dropna().str.len().sum() # Added dropna() to remove missing values\n",
        "\n",
        "# Print the results\n",
        "print(\"Total words:\", word_count)\n",
        "print(\"Total characters:\", char_count)"
      ],
      "cell_type": "code",
      "metadata": {
        "colab": {
          "base_uri": "https://localhost:8080/"
        },
        "id": "84tmwuaMELTT",
        "outputId": "37b3f3a1-7333-423c-e797-827a1e5ad2e0"
      },
      "execution_count": null,
      "outputs": [
        {
          "output_type": "stream",
          "name": "stdout",
          "text": [
            "Total words: 698\n",
            "Total characters: 3695\n"
          ]
        }
      ]
    },
    {
      "cell_type": "code",
      "source": [
        "# 3. Handle Missing Values:\n",
        "text_data.dropna(inplace=True)  # Remove rows with missing values"
      ],
      "metadata": {
        "id": "LCnTGIiL-XW1"
      },
      "execution_count": null,
      "outputs": []
    },
    {
      "cell_type": "code",
      "source": [
        "# 4. Remove Duplicate Rows:\n",
        "text_data.drop_duplicates(inplace=True)  # Remove duplicate rows"
      ],
      "metadata": {
        "id": "96GEDQdQ-l-x"
      },
      "execution_count": null,
      "outputs": []
    },
    {
      "cell_type": "code",
      "source": [
        "# 5. Clean Text Data:\n",
        "\n",
        "def clean_text(text):\n",
        "    # Remove punctuation and special characters\n",
        "    text = re.sub(r\"[^\\w\\s]\", \"\", text)\n",
        "    # Convert text to lowercase\n",
        "    text = text.lower()\n",
        "\n",
        "    # Remove extra whitespace\n",
        "    text = text.strip()\n",
        "    return text\n",
        "\n",
        "text_data[\"line\"] = text_data[\"line\"].apply(clean_text)"
      ],
      "metadata": {
        "id": "VsiU_VU8-rny"
      },
      "execution_count": null,
      "outputs": []
    },
    {
      "source": [
        "# 6. Remove Stop Words:\n",
        "\n",
        "!pip install nltk\n",
        "import nltk\n",
        "\n",
        "nltk.download('stopwords')\n",
        "\n",
        "from nltk.corpus import stopwords\n",
        "\n",
        "stop_words = set(stopwords.words(\"english\"))\n",
        "\n",
        "def remove_stopwords(text):\n",
        "    words = text.split()\n",
        "    filtered_words = [word for word in words if word not in stop_words]\n",
        "    return \" \".join(filtered_words)\n",
        "\n",
        "text_data[\"line\"] = text_data[\"line\"].apply(remove_stopwords)"
      ],
      "cell_type": "code",
      "metadata": {
        "colab": {
          "base_uri": "https://localhost:8080/"
        },
        "collapsed": true,
        "id": "Lt8vr802BA17",
        "outputId": "e9c750a4-b341-4dce-81b1-b1d40d0ae6f3"
      },
      "execution_count": null,
      "outputs": [
        {
          "output_type": "stream",
          "name": "stdout",
          "text": [
            "Requirement already satisfied: nltk in /usr/local/lib/python3.10/dist-packages (3.8.1)\n",
            "Requirement already satisfied: click in /usr/local/lib/python3.10/dist-packages (from nltk) (8.1.7)\n",
            "Requirement already satisfied: joblib in /usr/local/lib/python3.10/dist-packages (from nltk) (1.4.2)\n",
            "Requirement already satisfied: regex>=2021.8.3 in /usr/local/lib/python3.10/dist-packages (from nltk) (2024.9.11)\n",
            "Requirement already satisfied: tqdm in /usr/local/lib/python3.10/dist-packages (from nltk) (4.66.5)\n"
          ]
        },
        {
          "output_type": "stream",
          "name": "stderr",
          "text": [
            "[nltk_data] Downloading package stopwords to /root/nltk_data...\n",
            "[nltk_data]   Package stopwords is already up-to-date!\n"
          ]
        }
      ]
    },
    {
      "source": [
        "# 7. Handle Contractions:\n",
        "\n",
        "!pip install contractions # install the missing contractions library\n",
        "import contractions\n",
        "\n",
        "text_data[\"line\"] = text_data[\"line\"].apply(contractions.fix)"
      ],
      "cell_type": "code",
      "metadata": {
        "colab": {
          "base_uri": "https://localhost:8080/"
        },
        "collapsed": true,
        "id": "WircHw7ZByWG",
        "outputId": "b0c1801e-1d79-4414-b1c2-142a7dea2877"
      },
      "execution_count": null,
      "outputs": [
        {
          "output_type": "stream",
          "name": "stdout",
          "text": [
            "Collecting contractions\n",
            "  Downloading contractions-0.1.73-py2.py3-none-any.whl.metadata (1.2 kB)\n",
            "Collecting textsearch>=0.0.21 (from contractions)\n",
            "  Downloading textsearch-0.0.24-py2.py3-none-any.whl.metadata (1.2 kB)\n",
            "Collecting anyascii (from textsearch>=0.0.21->contractions)\n",
            "  Downloading anyascii-0.3.2-py3-none-any.whl.metadata (1.5 kB)\n",
            "Collecting pyahocorasick (from textsearch>=0.0.21->contractions)\n",
            "  Downloading pyahocorasick-2.1.0-cp310-cp310-manylinux_2_5_x86_64.manylinux1_x86_64.manylinux_2_12_x86_64.manylinux2010_x86_64.whl.metadata (13 kB)\n",
            "Downloading contractions-0.1.73-py2.py3-none-any.whl (8.7 kB)\n",
            "Downloading textsearch-0.0.24-py2.py3-none-any.whl (7.6 kB)\n",
            "Downloading anyascii-0.3.2-py3-none-any.whl (289 kB)\n",
            "\u001b[2K   \u001b[90m━━━━━━━━━━━━━━━━━━━━━━━━━━━━━━━━━━━━━━━━\u001b[0m \u001b[32m289.9/289.9 kB\u001b[0m \u001b[31m5.6 MB/s\u001b[0m eta \u001b[36m0:00:00\u001b[0m\n",
            "\u001b[?25hDownloading pyahocorasick-2.1.0-cp310-cp310-manylinux_2_5_x86_64.manylinux1_x86_64.manylinux_2_12_x86_64.manylinux2010_x86_64.whl (110 kB)\n",
            "\u001b[2K   \u001b[90m━━━━━━━━━━━━━━━━━━━━━━━━━━━━━━━━━━━━━━━━\u001b[0m \u001b[32m110.7/110.7 kB\u001b[0m \u001b[31m7.9 MB/s\u001b[0m eta \u001b[36m0:00:00\u001b[0m\n",
            "\u001b[?25hInstalling collected packages: pyahocorasick, anyascii, textsearch, contractions\n",
            "Successfully installed anyascii-0.3.2 contractions-0.1.73 pyahocorasick-2.1.0 textsearch-0.0.24\n"
          ]
        }
      ]
    },
    {
      "source": [
        "# 8. Stem or Lemmatize:\n",
        "\n",
        "from nltk.stem import PorterStemmer, WordNetLemmatizer\n",
        "\n",
        "stemmer = PorterStemmer()\n",
        "lemmatizer = WordNetLemmatizer()\n",
        "\n",
        "def stem_text(text):\n",
        "    words = text.split()\n",
        "    stemmed_words = [stemmer.stem(word) for word in words]\n",
        "    return \" \".join(stemmed_words)\n",
        "\n",
        "def lemmatize_text(text):\n",
        "    words = text.split()\n",
        "    lemmatized_words = [lemmatizer.lemmatize(word) for word in words]\n",
        "    return \" \".join(lemmatized_words)\n",
        "\n",
        "# Choose either stemming or lemmatization:\n",
        "text_data[\"line\"] = text_data[\"line\"].apply(stem_text)\n",
        "# Download wordnet before using lemmatizer\n",
        "nltk.download('wordnet')\n",
        "text_data[\"line\"] = text_data[\"line\"].apply(lemmatize_text)"
      ],
      "cell_type": "code",
      "metadata": {
        "colab": {
          "base_uri": "https://localhost:8080/"
        },
        "collapsed": true,
        "id": "HnWmmR91CmH-",
        "outputId": "92baeca7-84b8-4a26-a2f7-fdc1016b86f3"
      },
      "execution_count": null,
      "outputs": [
        {
          "output_type": "stream",
          "name": "stderr",
          "text": [
            "[nltk_data] Downloading package wordnet to /root/nltk_data...\n"
          ]
        }
      ]
    },
    {
      "source": [
        "# 9. To remove characters like \" +++$+++\"\n",
        "# Remove \" +++$+++\" and any leading/trailing whitespace\n",
        "text_data[\"line\"] = text_data[\"line\"].str.replace(r\"^\\s*\\+\\+\\+ \\$\\ \\+\\+\\+\\s*$\", \"\", regex=True)\n",
        "                                                    # Escaped the + symbols with backslashes"
      ],
      "cell_type": "code",
      "metadata": {
        "id": "4LxZAgtiEmPb"
      },
      "execution_count": null,
      "outputs": []
    },
    {
      "cell_type": "code",
      "source": [
        "# 10. Post Processing Count words and characters\n",
        "word_count = text_data[\"line\"].dropna().str.split().apply(len).sum() # Added dropna() to remove missing values\n",
        "char_count = text_data[\"line\"].dropna().str.len().sum() # Added dropna() to remove missing values\n",
        "\n",
        "# Print the results\n",
        "print(\"Total words:\", word_count)\n",
        "print(\"Total characters:\", char_count)"
      ],
      "metadata": {
        "colab": {
          "base_uri": "https://localhost:8080/"
        },
        "id": "pgOEDCiRErs2",
        "outputId": "726f8cb2-61c7-4b9e-9832-1dc522ac4218"
      },
      "execution_count": null,
      "outputs": [
        {
          "output_type": "stream",
          "name": "stdout",
          "text": [
            "Total words: 380\n",
            "Total characters: 2038\n"
          ]
        }
      ]
    },
    {
      "cell_type": "code",
      "source": [
        "# 11. Save file processed in cell above as 'cleaned_text_data' to my google\n",
        "# drive\n",
        "\n",
        "from google.colab import files\n",
        "\n",
        "# Assuming 'text_data' is your DataFrame containing the cleaned data\n",
        "text_data.to_csv('/content/drive/MyDrive/cleaned_text_data.csv', index=False)\n"
      ],
      "metadata": {
        "id": "aHQRStxDHrCH"
      },
      "execution_count": null,
      "outputs": []
    },
    {
      "cell_type": "code",
      "source": [
        "# prompt: save file in above cell as txt file\n",
        "\n",
        "# Assuming 'text_data' is your DataFrame containing the cleaned data\n",
        "text_data.to_csv('/content/drive/MyDrive/cleaned_text_data.txt', index=False, sep='\\t')\n"
      ],
      "metadata": {
        "id": "wLpoiuzRjmsf"
      },
      "execution_count": null,
      "outputs": []
    },
    {
      "cell_type": "code",
      "source": [
        "def combine_lines_from_txt_file(file_path):\n",
        "  \"\"\"Combines lines from a TXT file into a single unstructured string.\n",
        "\n",
        "  Args:\n",
        "    file_path: The path to the TXT file.\n",
        "\n",
        "  Returns:\n",
        "    A string containing all the lines from the file combined into a single string.\n",
        "  \"\"\"\n",
        "\n",
        "  with open(file_path, 'r') as f:\n",
        "    combined_text = ''.join(f.readlines())\n",
        "    combined_text = combined_text.replace('\\n', '')  # Remove newline characters\n",
        "  return combined_text\n",
        "\n",
        "# Example usage:\n",
        "file_path = \"/content/drive/MyDrive/cleaned_text_data.txt\"  # Replace with the actual path to your TXT file\n",
        "unstructured_data = combine_lines_from_txt_file(file_path)\n",
        "print(unstructured_data)"
      ],
      "metadata": {
        "colab": {
          "base_uri": "https://localhost:8080/"
        },
        "id": "pysjG51u2XRZ",
        "outputId": "d567a273-e634-4cdd-e687-6c42bc09a5e6"
      },
      "execution_count": null,
      "outputs": [
        {
          "output_type": "stream",
          "name": "stdout",
          "text": [
            "character\tlineL229706 +++$+++ u1042 +++$+++ m68 +++$+++ JASON +++$+++ BRANDON!\ttime goL229857 +++$+++ u1041 +++$+++ m68 +++$+++ GWEN +++$+++ All systems are working, Commander. ,~ -cc\tpink cL229881 +++$+++ u1049 +++$+++ m68 +++$+++ TOMMY +++$+++ I see them!  I see them! RD STREET\tpasadena 57L229801 +++$+++ u1041 +++$+++ m68 +++$+++ GWEN +++$+++ What are you doing? What are thev doino? ~7C INT. SARRIS' SHIP\th37cL237881 +++$+++ u1117 +++$+++ m73 +++$+++ REDBEARD +++$+++ It would have been a beautiful bridge, John. I never noticed before, occupied with other business, I\tsuppose never really pay much attention kind thing ive time today nothing else graceful placement couldnt prettierL381472 +++$+++ u1914 +++$+++ m125 +++$+++ ZED'S VOICE +++$+++ We've got about eight or nine prospects\twant lookL496383 +++$+++ u2667 +++$+++ m174 +++$+++ AUGUST +++$+++ That's what I tried to find out.\twent la jeunesse used phony health inspectors badge let go works one room room locked id like see inside roomL496282 +++$+++ u2670 +++$+++ m174 +++$+++ FRANCES +++$+++ Well, don't worry. I saw Miss Jacqueline only a week ago. I saw her at a little restaurant the boy friend took me to -- an Italian place down in the Village -\tdanteL496706 +++$+++ u2682 +++$+++ m174 +++$+++ MRS. REDI +++$+++ You\tfool symbol us us asking usL496542 +++$+++ u2673 +++$+++ m174 +++$+++ JASON +++$+++ Bella Romari\tseated would embrace three movements like sonata ah wonderful one fly tonight take coffee machine live gypsiesL496828 +++$+++ u2673 +++$+++ m174 +++$+++ JASON +++$+++ Actually I want to ask two favors of you -- one as a poet \tone detectiveL496724 +++$+++ u2674 +++$+++ m174 +++$+++ JUDD +++$+++ A gay lot - Redi, for instance.  I don't know what her sorrow is,\tlifes empty one shes cling frances fallon worship jacqueline follow like sheep bruns fanaticL496723 +++$+++ u2680 +++$+++ m174 +++$+++ MRS. CORTEZ +++$+++ Are we?\tthought gayL496498 +++$+++ u2675 +++$+++ m174 +++$+++ MARY +++$+++ No, Nancy.\tyouve got sleep two minutesL41560 +++$+++ u3667 +++$+++ m242 +++$+++ ANYA +++$+++ I'm glad you\tL41465 +++$+++ u3669 +++$+++ m242 +++$+++ DMITRI +++$+++ But it's not\tmoney vladL41550 +++$+++ u3674 +++$+++ m242 +++$+++ TATIANA +++$+++ Young\tmanL76340 +++$+++ u3961 +++$+++ m263 +++$+++ DAVID +++$+++ Yes.  And\twine dinner killL219108 +++$+++ u5334 +++$+++ m354 +++$+++ DONNA +++$+++ For once in your life have some \trespect dont even curse nothinL277930 +++$+++ u5821 +++$+++ m386 +++$+++ BERNIE +++$+++ I was giving him some advice is all. Preparing him for life.  You don't want him to grow up soft, Ev\ttough goddamn jungleL308937 +++$+++ u6033 +++$+++ m401 +++$+++ OLIVER +++$+++ He complained of not feeling well. I thought he was drunk \tstaggeredL309031 +++$+++ u6029 +++$+++ m401 +++$+++ CATHY +++$+++ No. I mean your other secret -\tone kept bidden even father old doctor london toldL308982 +++$+++ u6032 +++$+++ m401 +++$+++ MISS WOLLSTEN +++$+++ I don't care who he is. He doesn't know.\tcant tellL332189 +++$+++ u6166 +++$+++ m411 +++$+++ HAMMOND +++$+++ You're absolutely right.  Yes, you're right.  Hiring Nedry was a mistake, that's obvious.  \tdependent automation see thats correctable next time aroundL332127 +++$+++ u6170 +++$+++ m411 +++$+++ MULDOON +++$+++ Dr. Sattler, I've seen a lot of animal attacks.  People just disappear.  No blood, no trace.  \tthats way happensL332764 +++$+++ u6176 +++$+++ m412 +++$+++ HARDING +++$+++ I can't wait to hear your opening argument.\tladies gentlemen jury defense prove jason voorhees kill people fact committed mass suicide buried back yardL332717 +++$+++ u6177 +++$+++ m412 +++$+++ HAYES +++$+++ Take it easy, Ruby...\tright try think clearly dont mean _jasons_ hand dont mean grabbed scalpel slashed doctor laytons throatL332868 +++$+++ u6180 +++$+++ m412 +++$+++ RUBY +++$+++ Krueger's the greater danger right now. We have to stop him.  _Springwood_. That's where he'll go. That's where he's always gone.\tspringwoods like crystal lake theres couple hundred thousand people could anywhereL332757 +++$+++ u6180 +++$+++ m412 +++$+++ RUBY +++$+++ Great.\tL332643 +++$+++ u6180 +++$+++ m412 +++$+++ RUBY +++$+++ That's the problem with this case. Everyone thinks they know Jason's life story. But they don't. What you're remembering is a _movie_. Fiction.\tmovie jasons mother runs around killing people jason drowns crystal lakeL368050 +++$+++ u6468 +++$+++ m430 +++$+++ DOYLE +++$+++ Anyhow...\twake shes gone favorite part leaves keys brand new beemerL368517 +++$+++ u6473 +++$+++ m430 +++$+++ STEPHANIE +++$+++ I got out of there.\tgrabbed stuff foundL407114 +++$+++ u6785 +++$+++ m453 +++$+++ GREEN +++$+++ Well, my wife, Ester's down the hall. I saw Barnett leaving and I was just talking to Ester about your being here.\tloves much come say hello weve following since girl well scared death didnt meanL422635 +++$+++ u6912 +++$+++ m462 +++$+++ WILLIAM +++$+++ Ahm right, right, I liked the bit in space very much.  Did you enjoy making \tbitL422430 +++$+++ u6912 +++$+++ m462 +++$+++ WILLIAM +++$+++ Right -- well, then we have something of an impasse.  I tell you what -- I'll call the police -- and,\tsay im wrong whole bookdownthetrousers scenario really apologizeL438513 +++$+++ u7016 +++$+++ m469 +++$+++ CAROL +++$+++ Hi, Peggy. God, that Walter Getz\tstill danceL438645 +++$+++ u7025 +++$+++ m469 +++$+++ PEGGY +++$+++ Oh.\tahrecently kids drinkL439015 +++$+++ u7025 +++$+++ m469 +++$+++ PEGGY +++$+++ Oh.\thuge portable radios everything else gets small reason portable radios get enormousL438753 +++$+++ u7025 +++$+++ m469 +++$+++ PEGGY +++$+++ I\tknow burritoL443714 +++$+++ u7073 +++$+++ m473 +++$+++ ZAIUS +++$+++ Well? For a time the ancients kept humans as household pets.\tlawgiver proved man could tamed keep digging cornelius youll find evidence master house apeL443180 +++$+++ u7068 +++$+++ m473 +++$+++ LANDON +++$+++ Taylor.\tim tellingL443767 +++$+++ u7072 +++$+++ m473 +++$+++ TAYLOR +++$+++ Sure.\tcageL443554 +++$+++ u7073 +++$+++ m473 +++$+++ ZAIUS +++$+++ Certainly not.\tyoure mutantL443276 +++$+++ u7074 +++$+++ m473 +++$+++ ZIRA +++$+++ Speak! Go on.\tspeakL475623 +++$+++ u7328 +++$+++ m495 +++$+++ EARL +++$+++ Well neither have I, but it's us or him.  If he talks, or writes a note\twhatever hes gonna turn us besides hes low life scumbag kind hardly even human anywayL475495 +++$+++ u7324 +++$+++ m495 +++$+++ BOOTH +++$+++ Forget it.  We're going to bury it, and we're not going to even think about it until everything dies down.  And no one, I mean no one hears a word about it.\tunderstandL475900 +++$+++ u7331 +++$+++ m495 +++$+++ MARTIN +++$+++ Dwayne...  It is imperative that we keep this confidential.\tknow someones close may even son bitch killed partnerL475647 +++$+++ u7334 +++$+++ m495 +++$+++ WALLACE +++$+++ We're doing a check on the manufacturers'\tserial number see defective tapes bunch whats take local boys providing answersL481478 +++$+++ u7402 +++$+++ m500 +++$+++ SEBASTIAN +++$+++ Ramón ... listen to me ... I'm in a\tjam get jobL488607 +++$+++ u7490 +++$+++ m506 +++$+++ DETECTIVE KINCAID +++$+++ Mr. Rielly? My name is Mark Kincaid. I'm with the L.A.P.D. Are you aware\tlast nights eventsL488562 +++$+++ u7492 +++$+++ m506 +++$+++ GALE +++$+++ Roman, from your enthusiasm it certainly seems that way.  Honestly though,  tell us, what's\tfavorite scary movieL543966 +++$+++ u7843 +++$+++ m530 +++$+++ ZANDER +++$+++ THERE !\tgravity field bigL550145 +++$+++ u7901 +++$+++ m534 +++$+++ VI +++$+++ That's not fair! I was honest! Just because I wasn't sucking up like \tbitch catherineL558271 +++$+++ u7998 +++$+++ m542 +++$+++ CLARK +++$+++ You don't have anything to be sorry \tcouldL558190 +++$+++ u7998 +++$+++ m542 +++$+++ CLARK +++$+++ But this should be exposed. They get\tkids starting life take every nickel get thats perry saysL557987 +++$+++ u8007 +++$+++ m542 +++$+++ PERRY +++$+++ Give it another ten minutes. If we don't --  Hell, I'll tell him.  Pete? If we haven't got anything new in the next ten minutes just go with the wire service copy under the 40 pt. banner and run the picture for three columns.  Kent,\tneed background story page 3 sidebar give every thing know terrorist groupL558104 +++$+++ u8003 +++$+++ m542 +++$+++ LEX +++$+++ OTIS, your brain defies any known scientific laws in its infinite capacity to deteriorate. Every man has a vulnerable point. Some like you Otis, have more that one. I didn't see Superman's in time. But now through patience, invention and skill, my \tblack box readyL558457 +++$+++ u8008 +++$+++ m542 +++$+++ PRESIDENT +++$+++ I'm the man they're \tprotecting im president ill kneel save livesL560105 +++$+++ u8031 +++$+++ m544 +++$+++ JOR-EL +++$+++ My friends, I am not a rash, impulsive person. I'm not given to wild, unsupported \tstatements must evacuate planet immediatelyL560139 +++$+++ u8031 +++$+++ m544 +++$+++ JOR-EL +++$+++ Well, physiologically, he...\twont quite fitL594910 +++$+++ u8286 +++$+++ m563 +++$+++ KIKI +++$+++ I've disturbed\tim sorryL594485 +++$+++ u8285 +++$+++ m563 +++$+++ JERRY +++$+++ \tlong feet held\n"
          ]
        }
      ]
    },
    {
      "cell_type": "code",
      "source": [
        "display(unstructured_data)"
      ],
      "metadata": {
        "colab": {
          "base_uri": "https://localhost:8080/",
          "height": 139
        },
        "id": "9_bTUKQB28Kb",
        "outputId": "d6cbd2eb-9004-449e-c83d-cd0b91661005"
      },
      "execution_count": null,
      "outputs": [
        {
          "output_type": "display_data",
          "data": {
            "text/plain": [
              "\"character\\tlineL229706 +++$+++ u1042 +++$+++ m68 +++$+++ JASON +++$+++ BRANDON!\\ttime goL229857 +++$+++ u1041 +++$+++ m68 +++$+++ GWEN +++$+++ All systems are working, Commander. ,~ -cc\\tpink cL229881 +++$+++ u1049 +++$+++ m68 +++$+++ TOMMY +++$+++ I see them!  I see them! RD STREET\\tpasadena 57L229801 +++$+++ u1041 +++$+++ m68 +++$+++ GWEN +++$+++ What are you doing? What are thev doino? ~7C INT. SARRIS' SHIP\\th37cL237881 +++$+++ u1117 +++$+++ m73 +++$+++ REDBEARD +++$+++ It would have been a beautiful bridge, John. I never noticed before, occupied with other business, I\\tsuppose never really pay much attention kind thing ive time today nothing else graceful placement couldnt prettierL381472 +++$+++ u1914 +++$+++ m125 +++$+++ ZED'S VOICE +++$+++ We've got about eight or nine prospects\\twant lookL496383 +++$+++ u2667 +++$+++ m174 +++$+++ AUGUST +++$+++ That's what I tried to find out.\\twent la jeunesse used phony health inspectors badge let go works one room room locked id like see inside roomL496282 +++$+++ u2670 +++$+++ m174 +++$+++ FRANCES +++$+++ Well, don't worry. I saw Miss Jacqueline only a week ago. I saw her at a little restaurant the boy friend took me to -- an Italian place down in the Village \\x97-\\tdanteL496706 +++$+++ u2682 +++$+++ m174 +++$+++ MRS. REDI +++$+++ You\\tfool symbol us us asking usL496542 +++$+++ u2673 +++$+++ m174 +++$+++ JASON +++$+++ Bella Romari\\tseated would embrace three movements like sonata ah wonderful one fly tonight take coffee machine live gypsiesL496828 +++$+++ u2673 +++$+++ m174 +++$+++ JASON +++$+++ Actually I want to ask two favors of you -- one as a poet \\x97\\x97\\tone detectiveL496724 +++$+++ u2674 +++$+++ m174 +++$+++ JUDD +++$+++ A gay lot -\\x97 Redi, for instance.  I don't know what her sorrow is,\\tlifes empty one shes cling frances fallon worship jacqueline follow like sheep bruns fanaticL496723 +++$+++ u2680 +++$+++ m174 +++$+++ MRS. CORTEZ +++$+++ Are we?\\tthought gayL496498 +++$+++ u2675 +++$+++ m174 +++$+++ MARY +++$+++ No, Nancy.\\tyouve got sleep two minutesL41560 +++$+++ u3667 +++$+++ m242 +++$+++ ANYA +++$+++ I'm glad you\\tL41465 +++$+++ u3669 +++$+++ m242 +++$+++ DMITRI +++$+++ But it's not\\tmoney vladL41550 +++$+++ u3674 +++$+++ m242 +++$+++ TATIANA +++$+++ Young\\tmanL76340 +++$+++ u3961 +++$+++ m263 +++$+++ DAVID +++$+++ Yes.  And\\twine dinner killL219108 +++$+++ u5334 +++$+++ m354 +++$+++ DONNA +++$+++ For once in your life have some \\trespect dont even curse nothinL277930 +++$+++ u5821 +++$+++ m386 +++$+++ BERNIE +++$+++ I was giving him some advice is all. Preparing him for life.  You don't want him to grow up soft, Ev\\ttough goddamn jungleL308937 +++$+++ u6033 +++$+++ m401 +++$+++ OLIVER +++$+++ He complained of not feeling well. I thought he was drunk \\x97\\x97\\tstaggeredL309031 +++$+++ u6029 +++$+++ m401 +++$+++ CATHY +++$+++ No. I mean your other secret -\\x97\\tone kept bidden even father old doctor london toldL308982 +++$+++ u6032 +++$+++ m401 +++$+++ MISS WOLLSTEN +++$+++ I don't care who he is. He doesn't know.\\tcant tellL332189 +++$+++ u6166 +++$+++ m411 +++$+++ HAMMOND +++$+++ You're absolutely right.  Yes, you're right.  Hiring Nedry was a mistake, that's obvious.  \\tdependent automation see thats correctable next time aroundL332127 +++$+++ u6170 +++$+++ m411 +++$+++ MULDOON +++$+++ Dr. Sattler, I've seen a lot of animal attacks.  People just disappear.  No blood, no trace.  \\tthats way happensL332764 +++$+++ u6176 +++$+++ m412 +++$+++ HARDING +++$+++ I can't wait to hear your opening argument.\\tladies gentlemen jury defense prove jason voorhees kill people fact committed mass suicide buried back yardL332717 +++$+++ u6177 +++$+++ m412 +++$+++ HAYES +++$+++ Take it easy, Ruby...\\tright try think clearly dont mean _jasons_ hand dont mean grabbed scalpel slashed doctor laytons throatL332868 +++$+++ u6180 +++$+++ m412 +++$+++ RUBY +++$+++ Krueger's the greater danger right now. We have to stop him.  _Springwood_. That's where he'll go. That's where he's always gone.\\tspringwoods like crystal lake theres couple hundred thousand people could anywhereL332757 +++$+++ u6180 +++$+++ m412 +++$+++ RUBY +++$+++ Great.\\tL332643 +++$+++ u6180 +++$+++ m412 +++$+++ RUBY +++$+++ That's the problem with this case. Everyone thinks they know Jason's life story. But they don't. What you're remembering is a _movie_. Fiction.\\tmovie jasons mother runs around killing people jason drowns crystal lakeL368050 +++$+++ u6468 +++$+++ m430 +++$+++ DOYLE +++$+++ Anyhow...\\twake shes gone favorite part leaves keys brand new beemerL368517 +++$+++ u6473 +++$+++ m430 +++$+++ STEPHANIE +++$+++ I got out of there.\\tgrabbed stuff foundL407114 +++$+++ u6785 +++$+++ m453 +++$+++ GREEN +++$+++ Well, my wife, Ester's down the hall. I saw Barnett leaving and I was just talking to Ester about your being here.\\tloves much come say hello weve following since girl well scared death didnt meanL422635 +++$+++ u6912 +++$+++ m462 +++$+++ WILLIAM +++$+++ Ahm right, right, I liked the bit in space very much.  Did you enjoy making \\tbitL422430 +++$+++ u6912 +++$+++ m462 +++$+++ WILLIAM +++$+++ Right -- well, then we have something of an impasse.  I tell you what -- I'll call the police -- and,\\tsay im wrong whole bookdownthetrousers scenario really apologizeL438513 +++$+++ u7016 +++$+++ m469 +++$+++ CAROL +++$+++ Hi, Peggy. God, that Walter Getz\\tstill danceL438645 +++$+++ u7025 +++$+++ m469 +++$+++ PEGGY +++$+++ Oh.\\tahrecently kids drinkL439015 +++$+++ u7025 +++$+++ m469 +++$+++ PEGGY +++$+++ Oh.\\thuge portable radios everything else gets small reason portable radios get enormousL438753 +++$+++ u7025 +++$+++ m469 +++$+++ PEGGY +++$+++ I\\tknow burritoL443714 +++$+++ u7073 +++$+++ m473 +++$+++ ZAIUS +++$+++ Well? For a time the ancients kept humans as household pets.\\tlawgiver proved man could tamed keep digging cornelius youll find evidence master house apeL443180 +++$+++ u7068 +++$+++ m473 +++$+++ LANDON +++$+++ Taylor.\\tim tellingL443767 +++$+++ u7072 +++$+++ m473 +++$+++ TAYLOR +++$+++ Sure.\\tcageL443554 +++$+++ u7073 +++$+++ m473 +++$+++ ZAIUS +++$+++ Certainly not.\\tyoure mutantL443276 +++$+++ u7074 +++$+++ m473 +++$+++ ZIRA +++$+++ Speak! Go on.\\tspeakL475623 +++$+++ u7328 +++$+++ m495 +++$+++ EARL +++$+++ Well neither have I, but it's us or him.  If he talks, or writes a note\\twhatever hes gonna turn us besides hes low life scumbag kind hardly even human anywayL475495 +++$+++ u7324 +++$+++ m495 +++$+++ BOOTH +++$+++ Forget it.  We're going to bury it, and we're not going to even think about it until everything dies down.  And no one, I mean no one hears a word about it.\\tunderstandL475900 +++$+++ u7331 +++$+++ m495 +++$+++ MARTIN +++$+++ Dwayne...  It is imperative that we keep this confidential.\\tknow someones close may even son bitch killed partnerL475647 +++$+++ u7334 +++$+++ m495 +++$+++ WALLACE +++$+++ We're doing a check on the manufacturers'\\tserial number see defective tapes bunch whats take local boys providing answersL481478 +++$+++ u7402 +++$+++ m500 +++$+++ SEBASTIAN +++$+++ Ramón ... listen to me ... I'm in a\\tjam get jobL488607 +++$+++ u7490 +++$+++ m506 +++$+++ DETECTIVE KINCAID +++$+++ Mr. Rielly? My name is Mark Kincaid. I'm with the L.A.P.D. Are you aware\\tlast nights eventsL488562 +++$+++ u7492 +++$+++ m506 +++$+++ GALE +++$+++ Roman, from your enthusiasm it certainly seems that way.  Honestly though,  tell us, what's\\tfavorite scary movieL543966 +++$+++ u7843 +++$+++ m530 +++$+++ ZANDER +++$+++ THERE !\\tgravity field bigL550145 +++$+++ u7901 +++$+++ m534 +++$+++ VI +++$+++ That's not fair! I was honest! Just because I wasn't sucking up like \\tbitch catherineL558271 +++$+++ u7998 +++$+++ m542 +++$+++ CLARK +++$+++ You don't have anything to be sorry \\tcouldL558190 +++$+++ u7998 +++$+++ m542 +++$+++ CLARK +++$+++ But this should be exposed. They get\\tkids starting life take every nickel get thats perry saysL557987 +++$+++ u8007 +++$+++ m542 +++$+++ PERRY +++$+++ Give it another ten minutes. If we don't --  Hell, I'll tell him.  Pete? If we haven't got anything new in the next ten minutes just go with the wire service copy under the 40 pt. banner and run the picture for three columns.  Kent,\\tneed background story page 3 sidebar give every thing know terrorist groupL558104 +++$+++ u8003 +++$+++ m542 +++$+++ LEX +++$+++ OTIS, your brain defies any known scientific laws in its infinite capacity to deteriorate. Every man has a vulnerable point. Some like you Otis, have more that one. I didn't see Superman's in time. But now through patience, invention and skill, my \\tblack box readyL558457 +++$+++ u8008 +++$+++ m542 +++$+++ PRESIDENT +++$+++ I'm the man they're \\tprotecting im president ill kneel save livesL560105 +++$+++ u8031 +++$+++ m544 +++$+++ JOR-EL +++$+++ My friends, I am not a rash, impulsive person. I'm not given to wild, unsupported \\tstatements must evacuate planet immediatelyL560139 +++$+++ u8031 +++$+++ m544 +++$+++ JOR-EL +++$+++ Well, physiologically, he...\\twont quite fitL594910 +++$+++ u8286 +++$+++ m563 +++$+++ KIKI +++$+++ I've disturbed\\tim sorryL594485 +++$+++ u8285 +++$+++ m563 +++$+++ JERRY +++$+++ \\x97\\x97\\tlong feet held\""
            ],
            "application/vnd.google.colaboratory.intrinsic+json": {
              "type": "string"
            }
          },
          "metadata": {}
        }
      ]
    },
    {
      "cell_type": "code",
      "source": [
        "# prompt: save  unstructured_data to my Google Drive\n",
        "\n",
        "with open('/content/drive/MyDrive/unstructured_data.txt', 'w') as f:\n",
        "  f.write(unstructured_data)\n"
      ],
      "metadata": {
        "id": "qTRZV0a14AZR"
      },
      "execution_count": null,
      "outputs": []
    },
    {
      "cell_type": "code",
      "source": [
        "word_count = text_data[\"line\"].dropna().str.split().apply(len).sum() # Added dropna() to remove missing values\n",
        "char_count = text_data[\"line\"].dropna().str.len().sum() # Added dropna() to remove missing values\n",
        "\n",
        "# Print the results\n",
        "print(\"Total words:\", word_count)\n",
        "print(\"Total characters:\", char_count)"
      ],
      "metadata": {
        "id": "9SlImgnh4izw",
        "outputId": "1d466752-26e8-425f-ee59-2e55dbab8bf7",
        "colab": {
          "base_uri": "https://localhost:8080/"
        }
      },
      "execution_count": null,
      "outputs": [
        {
          "output_type": "stream",
          "name": "stdout",
          "text": [
            "Total words: 356\n",
            "Total characters: 2186\n"
          ]
        }
      ]
    }
  ]
}