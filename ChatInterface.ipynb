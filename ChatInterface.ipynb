{
 "cells": [
  {
   "cell_type": "code",
   "execution_count": 17,
   "id": "976f3c2a-1e96-45d5-9f85-588b60fbf9c1",
   "metadata": {
    "scrolled": true
   },
   "outputs": [
    {
     "name": "stderr",
     "output_type": "stream",
     "text": [
      "C:\\Users\\mthiruma\\AppData\\Local\\Programs\\Python\\Python312\\Lib\\site-packages\\gradio\\components\\chatbot.py:228: UserWarning: The 'tuples' format for chatbot messages is deprecated and will be removed in a future version of Gradio. Please set type='messages' instead, which uses openai-style 'role' and 'content' keys.\n",
      "  warnings.warn(\n"
     ]
    },
    {
     "name": "stdout",
     "output_type": "stream",
     "text": [
      "* Running on local URL:  http://127.0.0.1:7873\n",
      "\n",
      "To create a public link, set `share=True` in `launch()`.\n"
     ]
    },
    {
     "data": {
      "text/html": [
       "<div><iframe src=\"http://127.0.0.1:7873/\" width=\"100%\" height=\"500\" allow=\"autoplay; camera; microphone; clipboard-read; clipboard-write;\" frameborder=\"0\" allowfullscreen></iframe></div>"
      ],
      "text/plain": [
       "<IPython.core.display.HTML object>"
      ]
     },
     "metadata": {},
     "output_type": "display_data"
    },
    {
     "data": {
      "text/plain": []
     },
     "execution_count": 17,
     "metadata": {},
     "output_type": "execute_result"
    },
    {
     "name": "stdout",
     "output_type": "stream",
     "text": [
      "Me: hello\n",
      "ChatFlix: Hi\n",
      "Me: how are you doing\n",
      "ChatFlix: I'm here\n",
      "Me: how's it going \n",
      "ChatFlix: I'm good\n",
      "Me: what are your plans\n",
      "ChatFlix: I'm here\n",
      "Me: wanna go out?\n",
      "ChatFlix: I'm here\n"
     ]
    }
   ],
   "source": [
    "import gradio as gr\n",
    "import torch\n",
    "from transformers import AutoModelForCausalLM, AutoTokenizer\n",
    "\n",
    "# Load the pre-trained DialoGPT model and tokenizer (replace with your trained model path if needed)\n",
    "#model_name = \"microsoft/DialoGPT-small\"  # or path to your trained model\n",
    "model_name = r'./fine_tuned_dialoGPT/fine_tuned_dialoGPT_epoch3_step3600.pt'\n",
    "tokenizer = AutoTokenizer.from_pretrained(model_name)\n",
    "model = AutoModelForCausalLM.from_pretrained(model_name)\n",
    "\n",
    "# Move model to GPU if available\n",
    "device = torch.device('cuda' if torch.cuda.is_available() else 'cpu')\n",
    "model.to(device)\n",
    "\n",
    "# Function to generate a response using the trained DialoGPT model\n",
    "def generate_response(message, history):\n",
    "\n",
    "    print(\"Me: {}\".format(message))\n",
    "    # Tokenize the input and convert it to input_ids\n",
    "    new_input_ids = tokenizer.encode(message + tokenizer.eos_token, return_tensors='pt').to(device)\n",
    "\n",
    "    # Generate a response from the model\n",
    "    response_ids = model.generate(new_input_ids, max_length=1000, pad_token_id=tokenizer.eos_token_id)\n",
    "        \n",
    "    # Decode the generated response\n",
    "    response = tokenizer.decode(response_ids[:, new_input_ids.shape[-1]:][0], skip_special_tokens=True)\n",
    "    print(\"ChatFlix: {}\".format(response))\n",
    "\n",
    "    # return response, history  # Return both response and updated history\n",
    "    return response\n",
    "\n",
    "\n",
    "# Chat Interface in Gradio\n",
    "interface = gr.ChatInterface(\n",
    "    fn=generate_response,\n",
    "    title=\"ChatFlix using DialoGPT\",\n",
    "    description=\"A chatbot based on the DialoGPT model, fine-tuned for multi-turn conversations.\",\n",
    "    examples=[{\"text\": \"Hello\", \"files\": []}],\n",
    "    multimodal=False\n",
    ")\n",
    "\n",
    "interface.launch()\n",
    "\n"
   ]
  }
 ],
 "metadata": {
  "kernelspec": {
   "display_name": "Python 3 (ipykernel)",
   "language": "python",
   "name": "python3"
  },
  "language_info": {
   "codemirror_mode": {
    "name": "ipython",
    "version": 3
   },
   "file_extension": ".py",
   "mimetype": "text/x-python",
   "name": "python",
   "nbconvert_exporter": "python",
   "pygments_lexer": "ipython3",
   "version": "3.12.3"
  }
 },
 "nbformat": 4,
 "nbformat_minor": 5
}
